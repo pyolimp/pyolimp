{
 "cells": [
  {
   "cell_type": "markdown",
   "metadata": {},
   "source": [
    "VDSR, UDC-UNet, CVAE, USRNet, KerUnc, DWDN need to be in frame work, first stage only 3"
   ]
  },
  {
   "cell_type": "code",
   "execution_count": null,
   "metadata": {},
   "outputs": [],
   "source": [
    "from olimp.nn import VDSR, UDC-UNet, CVAE, USRNet, KerUnc, DWDN"
   ]
  },
  {
   "cell_type": "markdown",
   "metadata": {},
   "source": [
    "Loss PSNR, SSIM, MS-SSIM, NRMSE, CORR, STRESS, нелинейный критерий сохранности локальных контрастов, S-Oklab, FLIP, first stage only ssim and ms-ssim.\n",
    "RMS, CD"
   ]
  },
  {
   "cell_type": "code",
   "execution_count": null,
   "metadata": {},
   "outputs": [],
   "source": [
    "from olimp.loss import SSIM, MS-SSIM, RMS, CD"
   ]
  },
  {
   "cell_type": "markdown",
   "metadata": {},
   "source": [
    "2 methods precompenstaions"
   ]
  },
  {
   "cell_type": "code",
   "execution_count": null,
   "metadata": {},
   "outputs": [],
   "source": [
    "from olimp.not_nn import correction, ..."
   ]
  },
  {
   "cell_type": "markdown",
   "metadata": {},
   "source": [
    "предкомпенсации ДЦЗ\n",
    "\n",
    "•\tСимуляция искажений для ДЦЗ (дейтеранопия, протанопия).\n",
    "\n",
    "•\tИспользование метрик RMS и CD для оценки качества предкомпенсации. \n",
    "\n",
    "предкомпенсации РИЗ\n",
    "\n",
    "•\tСимуляция искажений для РИЗ с использованием PSF.\n",
    "\n",
    "•\tИспользование метрики MS-SSIM для оценки качества предкомпенсации.\n"
   ]
  },
  {
   "cell_type": "code",
   "execution_count": null,
   "metadata": {},
   "outputs": [],
   "source": [
    "from olimp.simulate import simulate\n",
    "from olimp.dataset import sca_2023\n",
    "\n",
    "imgs, psfs = sca_2023(....)\n",
    "psf = psfs[0]\n",
    "\n",
    "precompenstaion_ris = simulate(img, psf)\n",
    "precompenstaion_dsc = simulate(img, [param1, param2, ...])"
   ]
  },
  {
   "cell_type": "code",
   "execution_count": null,
   "metadata": {},
   "outputs": [],
   "source": [
    "from olimp.loss import SSIM, MS-SSIM, RMS, CD\n",
    "\n",
    "loss1 = ssim(img, precompenstaion_ris)-> float [0, 1]\n",
    "loss2 = RMS(img, precompenstaion_ris)"
   ]
  },
  {
   "cell_type": "markdown",
   "metadata": {},
   "source": [
    "Сбор 1000 изображений"
   ]
  },
  {
   "cell_type": "markdown",
   "metadata": {},
   "source": [
    "- 5. Фреймворк должен включать модуль аугментации данных для обучения и тестирования. Должны быть реализованы как минимум следующие 5 видов аугментации:\n",
    "- 5.1. Геометрическая аугментация проективными преобразованиями.\n",
    "- 5.2. Аугментация гетероскедастическим шумом [15].\n",
    "- 5.3. Аугментация освещения, позволяющая генерировать изображения с различным балансом белого.\n",
    "- 5.4. Аугментация PSF, позволяющая с помощью масштабирования и поворотов генерировать новые распределения PSF на основе имеющихся.\n",
    "- 5.5. Аугментация масштабированием яркости (tone mapping).\n"
   ]
  },
  {
   "cell_type": "code",
   "execution_count": null,
   "metadata": {},
   "outputs": [],
   "source": [
    "from olimp.dataset import olimp_dataset\n",
    "from olimp.augment import augment # see kornia library\n",
    "imgs = olimp_dataset(...)\n",
    "new_imgs = augment(imgs, [\n",
    "    transform.projective(matirx[3*3]),\n",
    "    traansform.add_noise(0.01),\n",
    "    transform.white_balance(),\n",
    "    transform.flip(axis=0, 1, 2),\n",
    "    transform.scale(),\n",
    "    transform.scale_value(),\n",
    "    prob= [0-1, ...],\n",
    "])\n",
    "\n",
    "\n",
    "img = imgs[0]\n",
    "img_new = augment(img, [transform.add_noise(0.01)])"
   ]
  },
  {
   "cell_type": "markdown",
   "metadata": {},
   "source": [
    "\n",
    "6.\tПрограммная реализация инфраструктуры обучения нейросетевых моделей\n",
    "Задача: Создание универсальной инфраструктуры обучения нейросетевых моделей. Критерии:\n",
    "-\tИнфраструктура должна поддерживать 9 функций потерь: PSNR, SSIM, MS-SSIM, NRMSE, CORR, STRESS, нелинейный критерий сохранности локальных контрастов, S-Oklab, FLIP.\n",
    "-   Инфраструктура должна поддерживать обучение не менее 3 архитектур которые будут выбраны из списка \n",
    "-\tВ обучении помимо нейросетевой модели и функции потерь участвует модуль симуляции искажений. В процессе обучения оптимизируется выход следующей последовательности модулей: исходное изображение — предкомпенсационная нейросеть — симуляция искажений — функция потерь, оценивающая схожесть изображений.\n",
    "-\tДолжно поддерживать предложенные нам датасеты и внешние датасеты \n",
    "-\tРеализация модуля аугментации данных: геометрическая аугментация, аугментация шумом, освещением, PSF, масштабированием яркости."
   ]
  },
  {
   "cell_type": "code",
   "execution_count": null,
   "metadata": {},
   "outputs": [],
   "source": [
    "from olimp.train import train\n",
    "from olimp.nn import VDSR, UDC-UNet, CVAE, USRNet, KerUnc, DWDN\n",
    "from olimp.loss import SSIM, MS-SSIM, RMS, CD\n",
    "from olimp.dataset import olimp_dataset\n",
    "\n",
    "model = VDSR()\n",
    "loss = SSIM()\n",
    "train(model, dataset, loss, epoch=100, sampling, solver, device, callback)"
   ]
  }
 ],
 "metadata": {
  "language_info": {
   "name": "python"
  }
 },
 "nbformat": 4,
 "nbformat_minor": 2
}
