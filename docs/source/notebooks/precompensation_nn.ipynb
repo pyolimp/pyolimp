{
 "cells": [
  {
   "cell_type": "markdown",
   "id": "d82c8d3e",
   "metadata": {},
   "source": [
    "# Notebook: pyolimp - Neural Network Examples"
   ]
  },
  {
   "cell_type": "code",
   "execution_count": null,
   "id": "5d5de756",
   "metadata": {},
   "outputs": [],
   "source": [
    "from typing import Callable\n",
    "import torch\n",
    "from torch import Tensor\n",
    "from olimp.precompensation._demo import demo\n",
    "from olimp.precompensation._demo_cvd import demo as demo_cvd"
   ]
  },
  {
   "cell_type": "markdown",
   "id": "800642da",
   "metadata": {},
   "source": [
    "* DWDN"
   ]
  },
  {
   "cell_type": "code",
   "execution_count": null,
   "id": "e2b72237",
   "metadata": {},
   "outputs": [],
   "source": [
    "from olimp.precompensation.nn.models.dwdn import PrecompensationDWDN\n",
    "\n",
    "\n",
    "def demo_dwdn(\n",
    "    image: Tensor, psf: Tensor, progress: Callable[[float], None]\n",
    ") -> Tensor:\n",
    "    model = PrecompensationDWDN.from_path(path=\"hf://RVI/dwdn.pt\")\n",
    "\n",
    "    with torch.inference_mode():\n",
    "        inputs = model.preprocess(image, psf.to(torch.float32))\n",
    "        progress(0.1)\n",
    "        (precompensation,) = model(inputs, **model.arguments(inputs, psf))\n",
    "        progress(1.0)\n",
    "        return precompensation\n",
    "\n",
    "\n",
    "demo(\"DWDN\", demo_dwdn, mono=True, num_output_channels=3)"
   ]
  },
  {
   "cell_type": "markdown",
   "id": "3bcda140",
   "metadata": {},
   "source": [
    "* USRNET"
   ]
  },
  {
   "cell_type": "code",
   "execution_count": null,
   "id": "19047b30",
   "metadata": {},
   "outputs": [],
   "source": [
    "from olimp.precompensation.nn.models.usrnet import PrecompensationUSRNet\n",
    "\n",
    "\n",
    "def demo_usrnet(\n",
    "    image: Tensor,\n",
    "    psf: Tensor,\n",
    "    progress: Callable[[float], None],\n",
    ") -> Tensor:\n",
    "    model = PrecompensationUSRNet.from_path(path=\"hf://RVI/usrnet.pth\")\n",
    "    with torch.inference_mode():\n",
    "        psf = psf.to(torch.float32)\n",
    "        inputs = model.preprocess(image, psf, scale_factor=1, noise_level=0)\n",
    "\n",
    "        progress(0.1)\n",
    "        (precompensation,) = model(inputs)\n",
    "        progress(1.0)\n",
    "        return precompensation\n",
    "\n",
    "\n",
    "demo(\"USRNET\", demo_usrnet, mono=True, num_output_channels=3)"
   ]
  },
  {
   "cell_type": "markdown",
   "id": "377da181",
   "metadata": {},
   "source": [
    "* CVAE"
   ]
  },
  {
   "cell_type": "code",
   "execution_count": null,
   "id": "5eff791a",
   "metadata": {},
   "outputs": [],
   "source": [
    "from olimp.precompensation.nn.models.cvae import CVAE\n",
    "\n",
    "\n",
    "def demo_cvae(\n",
    "    image: Tensor,\n",
    "    psf: Tensor,\n",
    "    progress: Callable[[float], None],\n",
    ") -> Tensor:\n",
    "    model = CVAE.from_path(\"hf://RVI/cvae.pth\")\n",
    "    with torch.inference_mode():\n",
    "        psf = psf.to(torch.float32)\n",
    "        inputs = model.preprocess(image, psf)\n",
    "        progress(0.1)\n",
    "        (precompensation, mu, logvar) = model(inputs)\n",
    "        progress(1.0)\n",
    "        return precompensation\n",
    "\n",
    "\n",
    "demo(\"CVAE\", demo_cvae, mono=True)"
   ]
  },
  {
   "cell_type": "markdown",
   "id": "abd274de",
   "metadata": {},
   "source": [
    "* VAE"
   ]
  },
  {
   "cell_type": "code",
   "execution_count": null,
   "id": "3f766d18",
   "metadata": {},
   "outputs": [],
   "source": [
    "from olimp.precompensation.nn.models.vae import VAE\n",
    "\n",
    "\n",
    "def demo_vae(\n",
    "    image: Tensor,\n",
    "    psf: Tensor,\n",
    "    progress: Callable[[float], None],\n",
    ") -> Tensor:\n",
    "    model = VAE.from_path(\"hf://RVI/vae.pth\")\n",
    "    with torch.inference_mode():\n",
    "        psf = psf.to(torch.float32)\n",
    "        inputs = model.preprocess(image, psf)\n",
    "        progress(0.1)\n",
    "        precompensation, _mu, _logvar = model(inputs)\n",
    "        progress(1.0)\n",
    "        return precompensation\n",
    "\n",
    "\n",
    "demo(\"VAE\", demo_vae, mono=True)"
   ]
  },
  {
   "cell_type": "markdown",
   "id": "f810cf4b",
   "metadata": {},
   "source": [
    "* UNET - efficientnet-b0"
   ]
  },
  {
   "cell_type": "code",
   "execution_count": null,
   "id": "282f440f",
   "metadata": {},
   "outputs": [],
   "source": [
    "from olimp.precompensation.nn.models.unet_efficient_b0 import (\n",
    "    PrecompensationUNETB0,\n",
    ")\n",
    "\n",
    "\n",
    "def demo_unet(\n",
    "    image: torch.Tensor,\n",
    "    psf: torch.Tensor,\n",
    "    progress: Callable[[float], None],\n",
    ") -> torch.Tensor:\n",
    "    model = PrecompensationUNETB0.from_path(\n",
    "        \"hf://RVI/unet-efficientnet-b0.pth\"\n",
    "    )\n",
    "    with torch.inference_mode():\n",
    "        psf = psf.to(torch.float32)\n",
    "        inputs = model.preprocess(image, psf)\n",
    "        progress(0.1)\n",
    "        (precompensation,) = model(inputs)\n",
    "        progress(1.0)\n",
    "        return precompensation\n",
    "\n",
    "\n",
    "demo(\"UNET\", demo_unet, mono=True)"
   ]
  },
  {
   "cell_type": "markdown",
   "id": "cb9003b9",
   "metadata": {},
   "source": [
    "* UNETVAE"
   ]
  },
  {
   "cell_type": "code",
   "execution_count": null,
   "id": "c1cadd3a",
   "metadata": {},
   "outputs": [],
   "source": [
    "from olimp.precompensation.nn.models.unetvae import UNETVAE\n",
    "\n",
    "\n",
    "def demo_unetvae(\n",
    "    image: Tensor,\n",
    "    psf: Tensor,\n",
    "    progress: Callable[[float], None],\n",
    ") -> Tensor:\n",
    "    model = UNETVAE.from_path(\"hf://RVI/unetvae.pth\")\n",
    "    with torch.inference_mode():\n",
    "        psf = psf.to(torch.float32)\n",
    "        inputs = model.preprocess(image, psf)\n",
    "        progress(0.1)\n",
    "        precompensation, _mu, _logvar = model(inputs)\n",
    "        progress(1.0)\n",
    "        return precompensation\n",
    "\n",
    "\n",
    "demo(\"UNETVAE\", demo_unetvae, mono=True)"
   ]
  },
  {
   "cell_type": "markdown",
   "id": "3b45da78",
   "metadata": {},
   "source": [
    "* VDSR"
   ]
  },
  {
   "cell_type": "code",
   "execution_count": null,
   "id": "f0dfc6d3",
   "metadata": {},
   "outputs": [],
   "source": [
    "from olimp.precompensation.nn.models.vdsr import VDSR\n",
    "\n",
    "\n",
    "def demo_vdsr(\n",
    "    image: Tensor,\n",
    "    psf: Tensor,\n",
    "    progress: Callable[[float], None],\n",
    ") -> Tensor:\n",
    "    model = VDSR.from_path(\"hf://RVI/vdsr.pth\")\n",
    "    with torch.inference_mode():\n",
    "        psf = psf.to(torch.float32)\n",
    "        inputs = model.preprocess(image, psf)\n",
    "        progress(0.1)\n",
    "        (precompensation,) = model(inputs)\n",
    "        progress(1.0)\n",
    "        return precompensation\n",
    "\n",
    "\n",
    "demo(\"VDSR\", demo_vdsr, mono=True)"
   ]
  },
  {
   "cell_type": "markdown",
   "id": "235e12c2",
   "metadata": {},
   "source": [
    "* CVD-SWIN"
   ]
  },
  {
   "cell_type": "code",
   "execution_count": null,
   "id": "4737b048",
   "metadata": {},
   "outputs": [],
   "source": [
    "from olimp.precompensation.nn.models.cvd_swin.cvd_swin_4channels import (\n",
    "    CVDSwin4Channels,\n",
    ")\n",
    "from olimp.simulate.color_blindness_distortion import ColorBlindnessDistortion\n",
    "\n",
    "\n",
    "def demo_cvd_swin(\n",
    "    image: Tensor,\n",
    "    distortion: ColorBlindnessDistortion,\n",
    "    progress: Callable[[float], None],\n",
    ") -> tuple[torch.Tensor]:\n",
    "    svd_swin = CVDSwin4Channels.from_path()\n",
    "    image = svd_swin.preprocess(image, hue_angle_deg=torch.tensor([0.0]))\n",
    "    progress(0.1)\n",
    "    precompensation = svd_swin(image)\n",
    "    progress(1.0)\n",
    "    return (svd_swin.postprocess(precompensation[0]),)\n",
    "\n",
    "\n",
    "distortion = ColorBlindnessDistortion.from_type(\"protan\")\n",
    "demo_cvd(\n",
    "    \"CVD-SWIN\",\n",
    "    demo_cvd_swin,\n",
    "    distortion=distortion,\n",
    ")"
   ]
  }
 ],
 "metadata": {
  "kernelspec": {
   "display_name": "Python 3",
   "language": "python",
   "name": "python3"
  },
  "language_info": {
   "codemirror_mode": {
    "name": "ipython",
    "version": 3
   },
   "file_extension": ".py",
   "mimetype": "text/x-python",
   "name": "python",
   "nbconvert_exporter": "python",
   "pygments_lexer": "ipython3",
   "version": "3.13.3"
  }
 },
 "nbformat": 4,
 "nbformat_minor": 5
}
