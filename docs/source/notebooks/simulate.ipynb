{
 "cells": [
  {
   "cell_type": "markdown",
   "id": "667c1268",
   "metadata": {},
   "source": [
    "# Notebook: pyolimp - Simulation Examples"
   ]
  },
  {
   "cell_type": "code",
   "execution_count": null,
   "id": "648387e1",
   "metadata": {},
   "outputs": [],
   "source": [
    "import torch\n",
    "from torch import Tensor\n",
    "from matplotlib import pylab as plt\n",
    "from math import pi"
   ]
  },
  {
   "cell_type": "code",
   "execution_count": null,
   "id": "59cf7ead",
   "metadata": {},
   "outputs": [],
   "source": [
    "def show_one(image: Tensor, title: str) -> None:\n",
    "    if image.isnan().any():\n",
    "        raise ValueError(\"has nan\")\n",
    "    fig, ax1 = plt.subplots(dpi=72, figsize=(6, 4.5), ncols=1, nrows=1)\n",
    "    plt.title(title)\n",
    "    ax1.imshow(image)"
   ]
  },
  {
   "cell_type": "markdown",
   "id": "fb76bf98",
   "metadata": {},
   "source": [
    "* SCA Kernel"
   ]
  },
  {
   "cell_type": "code",
   "execution_count": null,
   "id": "a521606c",
   "metadata": {},
   "outputs": [],
   "source": [
    "from olimp.simulate.psf_sca import PSFSCA\n",
    "\n",
    "\n",
    "params = {\n",
    "    \"sphere_dpt\": -1.0,\n",
    "    \"cylinder_dpt\": 0.0,\n",
    "    \"angle_rad\": 0.0,\n",
    "    \"pupil_diameter_mm\": 4.0,\n",
    "    \"am2px\": 0.001,\n",
    "}\n",
    "\n",
    "params1 = {**params}\n",
    "show_one(PSFSCA(64, 64)(**params1), f\"{params1}\")\n",
    "params2 = {**params, \"cylinder_dpt\": 3}\n",
    "show_one(PSFSCA(64, 64)(**params2), f\"{params2}\")\n",
    "params3 = {**params, \"cylinder_dpt\": -2, \"angle_rad\": pi / 1.5}\n",
    "show_one(PSFSCA(64, 64)(**params3), f\"{params3}\")"
   ]
  },
  {
   "cell_type": "markdown",
   "id": "e1a104d3",
   "metadata": {},
   "source": [
    "* Gauss Kernel"
   ]
  },
  {
   "cell_type": "code",
   "execution_count": null,
   "id": "9cb3c5a7",
   "metadata": {},
   "outputs": [],
   "source": [
    "from olimp.simulate.psf_gauss import PSFGauss\n",
    "\n",
    "params = {\n",
    "    \"center_x\": 32,\n",
    "    \"center_y\": 32,\n",
    "    \"theta\": 0.0,\n",
    "    \"sigma_x\": 5.0,\n",
    "    \"sigma_y\": 5.0,\n",
    "}\n",
    "\n",
    "show_one(PSFGauss(64, 64)(**params), f\"{params}\")\n",
    "params2 = {**params, \"sigma_x\": 6.0, \"sigma_y\": 3.0}\n",
    "show_one(PSFGauss(64, 64)(**params2), f\"{params2}\")\n",
    "params3 = {**params, \"sigma_x\": 6.0, \"sigma_y\": 3.0, \"theta\": pi / 5}\n",
    "show_one(PSFGauss(64, 64)(**params3), f\"{params3}\")"
   ]
  },
  {
   "cell_type": "markdown",
   "id": "62fcb4a9",
   "metadata": {},
   "source": [
    "* Refraction Distortion"
   ]
  },
  {
   "cell_type": "code",
   "execution_count": null,
   "id": "e445a2f7",
   "metadata": {},
   "outputs": [],
   "source": [
    "from olimp.simulate.refraction_distortion import RefractionDistortion\n",
    "from olimp.simulate._demo_distortion import demo\n",
    "\n",
    "\n",
    "def demo_simulate():\n",
    "    psf1 = PSFSCA(512, 512)()\n",
    "    yield RefractionDistortion()(torch.fft.fftshift(psf1)), \"psf1\"\n",
    "\n",
    "    psf2 = PSFSCA(512, 512)(sphere_dpt=-3, cylinder_dpt=-2)\n",
    "    yield RefractionDistortion()(torch.fft.fftshift(psf2)), \"psf2\"\n",
    "\n",
    "\n",
    "demo(\"RefractionDistortion\", demo_simulate, on=\"horse.jpg\", size=(512, 512))"
   ]
  },
  {
   "cell_type": "markdown",
   "id": "a7f6b8b8",
   "metadata": {},
   "source": [
    "* Color Blindness Distortion"
   ]
  },
  {
   "cell_type": "code",
   "execution_count": null,
   "id": "f5d18693",
   "metadata": {},
   "outputs": [],
   "source": [
    "from olimp.simulate.color_blindness_distortion import ColorBlindnessDistortion\n",
    "\n",
    "\n",
    "def demo_simulate():\n",
    "    yield ColorBlindnessDistortion.from_type(\"protan\")(), \"protan\"\n",
    "    yield ColorBlindnessDistortion.from_type(\"deutan\")(), \"deutan\"\n",
    "    yield ColorBlindnessDistortion.from_type(\"tritan\")(), \"tritan\"\n",
    "\n",
    "\n",
    "demo(\"ColorBlindnessDistortion\", demo_simulate)"
   ]
  }
 ],
 "metadata": {
  "kernelspec": {
   "display_name": "Python 3",
   "language": "python",
   "name": "python3"
  },
  "language_info": {
   "codemirror_mode": {
    "name": "ipython",
    "version": 3
   },
   "file_extension": ".py",
   "mimetype": "text/x-python",
   "name": "python",
   "nbconvert_exporter": "python",
   "pygments_lexer": "ipython3",
   "version": "3.13.3"
  }
 },
 "nbformat": 4,
 "nbformat_minor": 5
}
