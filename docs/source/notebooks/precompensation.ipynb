{
 "cells": [
  {
   "cell_type": "markdown",
   "id": "fd7ce08e",
   "metadata": {},
   "source": [
    "# Notebook: pyolimp - Precompensation Examples"
   ]
  },
  {
   "cell_type": "code",
   "execution_count": null,
   "id": "766ca2db",
   "metadata": {},
   "outputs": [],
   "source": [
    "from typing import Callable\n",
    "from torch import Tensor\n",
    "from olimp.processing import scale_value, fft_conv\n",
    "from olimp.precompensation._demo import demo\n",
    "from olimp.precompensation._demo_cvd import demo as demo_cvd"
   ]
  },
  {
   "cell_type": "markdown",
   "id": "24fa2af4",
   "metadata": {},
   "source": [
    "* Huang"
   ]
  },
  {
   "cell_type": "code",
   "execution_count": null,
   "id": "fd298b00",
   "metadata": {},
   "outputs": [],
   "source": [
    "from olimp.precompensation.basic.huang import huang\n",
    "\n",
    "\n",
    "def demo_huang(\n",
    "    image: Tensor,\n",
    "    psf: Tensor,\n",
    "    progress: Callable[[float], None],\n",
    ") -> Tensor:\n",
    "    ret = huang(image, psf)\n",
    "    progress(1.0)\n",
    "    return scale_value(ret, min_val=0, max_val=1.0)\n",
    "\n",
    "\n",
    "demo(\"Huang\", demo_huang, mono=False)"
   ]
  },
  {
   "cell_type": "markdown",
   "id": "076d073d",
   "metadata": {},
   "source": [
    "* Feng Xu"
   ]
  },
  {
   "cell_type": "code",
   "execution_count": null,
   "id": "92926439",
   "metadata": {},
   "outputs": [],
   "source": [
    "from olimp.precompensation.analytics.feng_xu import feng_xu\n",
    "\n",
    "\n",
    "def demo_huang(\n",
    "    image: Tensor,\n",
    "    psf: Tensor,\n",
    "    progress: Callable[[float], None],\n",
    ") -> Tensor:\n",
    "    ret = feng_xu(image, psf, lambda_val=2)\n",
    "    progress(0.8)\n",
    "    ret = fft_conv(scale_value(ret), psf)\n",
    "    progress(1.0)\n",
    "    return ret\n",
    "\n",
    "\n",
    "demo(\"Feng Xu\", demo_huang, mono=True)"
   ]
  },
  {
   "cell_type": "markdown",
   "id": "954107db",
   "metadata": {},
   "source": [
    "* Achromatic Daltonization"
   ]
  },
  {
   "cell_type": "code",
   "execution_count": null,
   "id": "0f9649fb",
   "metadata": {},
   "outputs": [],
   "source": [
    "from olimp.precompensation.optimization.achromatic_daltonization import (\n",
    "    achromatic_daltonization,\n",
    "    ColorBlindnessDistortion,\n",
    "    ADParameters,\n",
    "    M1Loss,\n",
    ")\n",
    "import warnings\n",
    "\n",
    "\n",
    "def demo_achromatic_daltonization(\n",
    "    image: Tensor,\n",
    "    distortion: ColorBlindnessDistortion,\n",
    "    progress: Callable[[float], None],\n",
    ") -> tuple[Tensor]:\n",
    "\n",
    "    with warnings.catch_warnings():\n",
    "        warnings.simplefilter(\"ignore\")\n",
    "        return (\n",
    "            achromatic_daltonization(\n",
    "                image,\n",
    "                distortion,\n",
    "                ADParameters(progress=progress, loss_func=M1Loss()),\n",
    "            ),\n",
    "        )\n",
    "\n",
    "\n",
    "distortion = ColorBlindnessDistortion.from_type(\"protan\")\n",
    "demo_cvd(\n",
    "    \"Achromatic Daltonization\",\n",
    "    demo_achromatic_daltonization,\n",
    "    distortion=distortion,\n",
    ")"
   ]
  },
  {
   "cell_type": "markdown",
   "id": "fb204bd2",
   "metadata": {},
   "source": [
    "* Bregman Jumbo"
   ]
  },
  {
   "cell_type": "code",
   "execution_count": null,
   "id": "a2bfce8c",
   "metadata": {},
   "outputs": [],
   "source": [
    "from olimp.precompensation.optimization.bregman_jumbo import (\n",
    "    bregman_jumbo,\n",
    "    BregmanJumboParameters,\n",
    ")\n",
    "\n",
    "\n",
    "def demo_bregman_jumbo(\n",
    "    image: Tensor,\n",
    "    psf: Tensor,\n",
    "    progress: Callable[[float], None],\n",
    ") -> Tensor:\n",
    "    return bregman_jumbo(image, psf, BregmanJumboParameters(progress=progress))\n",
    "\n",
    "\n",
    "demo(\"Bregman Jumbo\", demo_bregman_jumbo)"
   ]
  },
  {
   "cell_type": "markdown",
   "id": "d421809d",
   "metadata": {},
   "source": [
    "* CVD Direct Optimization"
   ]
  },
  {
   "cell_type": "code",
   "execution_count": null,
   "id": "34e77851",
   "metadata": {},
   "outputs": [],
   "source": [
    "from olimp.precompensation.optimization.cvd_direct_optimization import (\n",
    "    cvd_direct_optimization,\n",
    "    CVDParameters,\n",
    ")\n",
    "from olimp.simulate.color_blindness_distortion import ColorBlindnessDistortion\n",
    "\n",
    "\n",
    "def demo_cvd_direct_optimization(\n",
    "    image: Tensor,\n",
    "    distortion: ColorBlindnessDistortion,\n",
    "    progress: Callable[[float], None],\n",
    ") -> Tensor:\n",
    "    from olimp.evaluation.loss.rms import RMS\n",
    "\n",
    "    return (\n",
    "        cvd_direct_optimization(\n",
    "            image,\n",
    "            distortion,\n",
    "            CVDParameters(progress=progress, loss_func=RMS(\"lab\")),\n",
    "        ),\n",
    "    )\n",
    "\n",
    "\n",
    "distortion = ColorBlindnessDistortion.from_type(\"protan\")\n",
    "demo_cvd(\n",
    "    \"CVD DIRECT OPTIMIZATION\",\n",
    "    demo_cvd_direct_optimization,\n",
    "    distortion=distortion,\n",
    ")"
   ]
  },
  {
   "cell_type": "markdown",
   "id": "3330cc71",
   "metadata": {},
   "source": [
    "* Global Tone Mapping"
   ]
  },
  {
   "cell_type": "code",
   "execution_count": null,
   "id": "bcd5def6",
   "metadata": {},
   "outputs": [],
   "source": [
    "from olimp.precompensation.optimization.global_tone_mapping import (\n",
    "    precompensation_global_tone_mapping,\n",
    "    GTMParameters,\n",
    ")\n",
    "\n",
    "\n",
    "def demo_global_tone_mapping(\n",
    "    image: Tensor,\n",
    "    psf: Tensor,\n",
    "    progress: Callable[[float], None],\n",
    ") -> Tensor:\n",
    "    return precompensation_global_tone_mapping(\n",
    "        image, psf, GTMParameters(progress=progress, lr=0.05)\n",
    "    )\n",
    "\n",
    "\n",
    "demo(\"Global Tone Mapping\", demo_global_tone_mapping, mono=False)"
   ]
  },
  {
   "cell_type": "markdown",
   "id": "0bbbcc20",
   "metadata": {},
   "source": [
    "* Half-Quadratic"
   ]
  },
  {
   "cell_type": "code",
   "execution_count": null,
   "id": "1cfc58de",
   "metadata": {},
   "outputs": [],
   "source": [
    "from olimp.precompensation.optimization.hqs import hqs, HQSParameters\n",
    "\n",
    "\n",
    "def demo_hqs(\n",
    "    image: Tensor,\n",
    "    psf: Tensor,\n",
    "    progress: Callable[[float], None],\n",
    ") -> Tensor:\n",
    "    return hqs(image, psf, HQSParameters(progress=progress))\n",
    "\n",
    "\n",
    "demo(\"Half-Quadratic\", demo_hqs)"
   ]
  },
  {
   "cell_type": "markdown",
   "id": "fe5d2257",
   "metadata": {},
   "source": [
    "* Ji"
   ]
  },
  {
   "cell_type": "code",
   "execution_count": null,
   "id": "9449a19d",
   "metadata": {},
   "outputs": [],
   "source": [
    "from olimp.precompensation.optimization.ji import ji, JiParameters\n",
    "from olimp.evaluation.loss.piq import MultiScaleSSIMLoss\n",
    "\n",
    "\n",
    "def demo_ji(\n",
    "    image: Tensor,\n",
    "    psf: Tensor,\n",
    "    progress: Callable[[float], None],\n",
    ") -> Tensor:\n",
    "    return ji(\n",
    "        image,\n",
    "        psf,\n",
    "        JiParameters(\n",
    "            progress=progress, alpha=1, loss_func=MultiScaleSSIMLoss()\n",
    "        ),\n",
    "    )\n",
    "\n",
    "\n",
    "demo(\"Ji\", demo_ji)"
   ]
  },
  {
   "cell_type": "markdown",
   "id": "47ed1f8a",
   "metadata": {},
   "source": [
    "* Montalto (FISTA)"
   ]
  },
  {
   "cell_type": "code",
   "execution_count": null,
   "id": "10fe1894",
   "metadata": {},
   "outputs": [],
   "source": [
    "from olimp.precompensation.optimization.montalto_fista import (\n",
    "    montalto as montalto_fista,\n",
    "    MontaltoParameters as FistaMontaltoParameters,\n",
    ")\n",
    "\n",
    "\n",
    "def demo_montalto(\n",
    "    image: Tensor,\n",
    "    psf: Tensor,\n",
    "    progress: Callable[[float], None],\n",
    ") -> Tensor:\n",
    "    return montalto_fista(\n",
    "        image, psf, FistaMontaltoParameters(progress=progress)\n",
    "    )\n",
    "\n",
    "\n",
    "demo(\"Montalto (FISTA)\", demo_montalto, mono=False)"
   ]
  },
  {
   "cell_type": "markdown",
   "id": "5af4a3f4",
   "metadata": {},
   "source": [
    "* Montalto"
   ]
  },
  {
   "cell_type": "code",
   "execution_count": null,
   "id": "c11355f7",
   "metadata": {},
   "outputs": [],
   "source": [
    "from olimp.precompensation.optimization.montalto import (\n",
    "    montalto as montalto,\n",
    "    MontaltoParameters,\n",
    ")\n",
    "\n",
    "\n",
    "def demo_montalto(\n",
    "    image: Tensor,\n",
    "    psf: Tensor,\n",
    "    progress: Callable[[float], None],\n",
    ") -> Tensor:\n",
    "    return montalto(image, psf, MontaltoParameters(progress=progress))\n",
    "\n",
    "\n",
    "demo(\"Montalto\", demo_montalto)"
   ]
  },
  {
   "cell_type": "markdown",
   "id": "6522fe7f",
   "metadata": {},
   "source": [
    "* Tennenholtz-Zachevsky"
   ]
  },
  {
   "cell_type": "code",
   "execution_count": null,
   "id": "4f8bd4c5",
   "metadata": {},
   "outputs": [],
   "source": [
    "from olimp.precompensation.optimization.tennenholtz_zachevsky import (\n",
    "    tennenholtz_zachevsky,\n",
    "    TennenholtzZachevskyParameters,\n",
    ")\n",
    "\n",
    "\n",
    "def demo_tennenholtz_zachevsky(\n",
    "    image: Tensor,\n",
    "    distortion: ColorBlindnessDistortion,\n",
    "    progress: Callable[[float], None],\n",
    ") -> tuple[Tensor]:\n",
    "    parameters = TennenholtzZachevskyParameters(progress=progress)\n",
    "    with warnings.catch_warnings():\n",
    "        warnings.simplefilter(\"ignore\")\n",
    "        return (tennenholtz_zachevsky(image[0], distortion, parameters)[None],)\n",
    "\n",
    "\n",
    "distortion = ColorBlindnessDistortion.from_type(\"protan\")\n",
    "demo_cvd(\n",
    "    \"Tennenholtz-Zachevsky\",\n",
    "    demo_tennenholtz_zachevsky,\n",
    "    distortion=distortion,\n",
    ")"
   ]
  }
 ],
 "metadata": {
  "kernelspec": {
   "display_name": "Python 3",
   "language": "python",
   "name": "python3"
  },
  "language_info": {
   "codemirror_mode": {
    "name": "ipython",
    "version": 3
   },
   "file_extension": ".py",
   "mimetype": "text/x-python",
   "name": "python",
   "nbconvert_exporter": "python",
   "pygments_lexer": "ipython3",
   "version": "3.13.3"
  }
 },
 "nbformat": 4,
 "nbformat_minor": 5
}
